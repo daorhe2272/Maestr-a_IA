{
  "nbformat": 4,
  "nbformat_minor": 0,
  "metadata": {
    "colab": {
      "provenance": [],
      "authorship_tag": "ABX9TyM762FTm7Qk00xadbimvyni",
      "include_colab_link": true
    },
    "kernelspec": {
      "name": "python3",
      "display_name": "Python 3"
    },
    "language_info": {
      "name": "python"
    }
  },
  "cells": [
    {
      "cell_type": "markdown",
      "metadata": {
        "id": "view-in-github",
        "colab_type": "text"
      },
      "source": [
        "<a href=\"https://colab.research.google.com/github/daorhe2272/Maestria_IA/blob/main/extraccion_y_almacenamiento_de_datos/Practica_web_scrapping.ipynb\" target=\"_parent\"><img src=\"https://colab.research.google.com/assets/colab-badge.svg\" alt=\"Open In Colab\"/></a>"
      ]
    },
    {
      "cell_type": "code",
      "execution_count": 65,
      "metadata": {
        "colab": {
          "base_uri": "https://localhost:8080/"
        },
        "id": "uW_BHeh3r-3k",
        "outputId": "a4f4f032-5860-4e31-b712-c06449f84630"
      },
      "outputs": [
        {
          "output_type": "stream",
          "name": "stdout",
          "text": [
            "Requirement already satisfied: requests in /usr/local/lib/python3.10/dist-packages (2.32.3)\n",
            "Requirement already satisfied: charset-normalizer<4,>=2 in /usr/local/lib/python3.10/dist-packages (from requests) (3.3.2)\n",
            "Requirement already satisfied: idna<4,>=2.5 in /usr/local/lib/python3.10/dist-packages (from requests) (3.10)\n",
            "Requirement already satisfied: urllib3<3,>=1.21.1 in /usr/local/lib/python3.10/dist-packages (from requests) (2.2.3)\n",
            "Requirement already satisfied: certifi>=2017.4.17 in /usr/local/lib/python3.10/dist-packages (from requests) (2024.8.30)\n",
            "Requirement already satisfied: beautifulsoup4 in /usr/local/lib/python3.10/dist-packages (4.12.3)\n",
            "Requirement already satisfied: soupsieve>1.2 in /usr/local/lib/python3.10/dist-packages (from beautifulsoup4) (2.6)\n"
          ]
        }
      ],
      "source": [
        "!pip install requests\n",
        "!pip install beautifulsoup4"
      ]
    },
    {
      "cell_type": "code",
      "source": [
        "import requests\n",
        "from bs4 import BeautifulSoup"
      ],
      "metadata": {
        "id": "HpeLciebsHmZ"
      },
      "execution_count": 66,
      "outputs": []
    },
    {
      "cell_type": "code",
      "source": [
        "url_objetivo = \"https://books.toscrape.com/\"\n",
        "\n",
        "# Obtener un requests de la URL objetivo\n",
        "site = requests.get(url_objetivo)\n",
        "\n",
        "# Si el Status Code es OK!\n",
        "if site.status_code == 200:\n",
        "  # Hacer al Site un soup\n",
        "  soup = BeautifulSoup(site.text)"
      ],
      "metadata": {
        "id": "I6_nhP-2sIG5"
      },
      "execution_count": 67,
      "outputs": []
    },
    {
      "cell_type": "code",
      "source": [
        "articles = soup(\"article\")"
      ],
      "metadata": {
        "id": "rKq2Q7o3sT5P"
      },
      "execution_count": 68,
      "outputs": []
    },
    {
      "cell_type": "code",
      "source": [
        "data = []\n",
        "\n",
        "for article in articles:\n",
        "  title_tag = article.find('a', title=True)\n",
        "  title = title_tag['title']\n",
        "\n",
        "  price = article.find(class_='price_color').text[1:]\n",
        "\n",
        "  availability = article.find(class_='instock availability').text.strip()\n",
        "\n",
        "  rating = article.find(class_='star-rating')['class'][1] + \" Stars\"\n",
        "\n",
        "  article_data = {\n",
        "    'Title': title,\n",
        "    'Price': price,\n",
        "    'Availability': availability,\n",
        "    'Rating': rating\n",
        "  }\n",
        "\n",
        "  data.append(article_data)"
      ],
      "metadata": {
        "id": "D9dxLn55s-SD"
      },
      "execution_count": 69,
      "outputs": []
    },
    {
      "cell_type": "code",
      "source": [
        "print(\"INFORMACIÓN DETALLADA POR PRODUCTO:\\n-----------------------------------\")\n",
        "print()\n",
        "\n",
        "for book in data:\n",
        "  print(f\"Título: {book['Title']}\")\n",
        "  print(f\"Precio: {book['Price']}\")\n",
        "  print(f\"Disponibilidad: {book['Availability']}\")\n",
        "  print(f\"Clasificación: {book['Rating']}\")\n",
        "  print(\"-----------------------------------\")"
      ],
      "metadata": {
        "colab": {
          "base_uri": "https://localhost:8080/"
        },
        "id": "pK5oHCKXwind",
        "outputId": "0660409f-096d-4a4b-8aa9-74ea497b641d"
      },
      "execution_count": 70,
      "outputs": [
        {
          "output_type": "stream",
          "name": "stdout",
          "text": [
            "INFORMACIÓN DETALLADA POR PRODUCTO:\n",
            "-----------------------------------\n",
            "\n",
            "Título: A Light in the Attic\n",
            "Precio: £51.77\n",
            "Disponibilidad: In stock\n",
            "Clasificación: Three Stars\n",
            "-----------------------------------\n",
            "Título: Tipping the Velvet\n",
            "Precio: £53.74\n",
            "Disponibilidad: In stock\n",
            "Clasificación: One Stars\n",
            "-----------------------------------\n",
            "Título: Soumission\n",
            "Precio: £50.10\n",
            "Disponibilidad: In stock\n",
            "Clasificación: One Stars\n",
            "-----------------------------------\n",
            "Título: Sharp Objects\n",
            "Precio: £47.82\n",
            "Disponibilidad: In stock\n",
            "Clasificación: Four Stars\n",
            "-----------------------------------\n",
            "Título: Sapiens: A Brief History of Humankind\n",
            "Precio: £54.23\n",
            "Disponibilidad: In stock\n",
            "Clasificación: Five Stars\n",
            "-----------------------------------\n",
            "Título: The Requiem Red\n",
            "Precio: £22.65\n",
            "Disponibilidad: In stock\n",
            "Clasificación: One Stars\n",
            "-----------------------------------\n",
            "Título: The Dirty Little Secrets of Getting Your Dream Job\n",
            "Precio: £33.34\n",
            "Disponibilidad: In stock\n",
            "Clasificación: Four Stars\n",
            "-----------------------------------\n",
            "Título: The Coming Woman: A Novel Based on the Life of the Infamous Feminist, Victoria Woodhull\n",
            "Precio: £17.93\n",
            "Disponibilidad: In stock\n",
            "Clasificación: Three Stars\n",
            "-----------------------------------\n",
            "Título: The Boys in the Boat: Nine Americans and Their Epic Quest for Gold at the 1936 Berlin Olympics\n",
            "Precio: £22.60\n",
            "Disponibilidad: In stock\n",
            "Clasificación: Four Stars\n",
            "-----------------------------------\n",
            "Título: The Black Maria\n",
            "Precio: £52.15\n",
            "Disponibilidad: In stock\n",
            "Clasificación: One Stars\n",
            "-----------------------------------\n",
            "Título: Starving Hearts (Triangular Trade Trilogy, #1)\n",
            "Precio: £13.99\n",
            "Disponibilidad: In stock\n",
            "Clasificación: Two Stars\n",
            "-----------------------------------\n",
            "Título: Shakespeare's Sonnets\n",
            "Precio: £20.66\n",
            "Disponibilidad: In stock\n",
            "Clasificación: Four Stars\n",
            "-----------------------------------\n",
            "Título: Set Me Free\n",
            "Precio: £17.46\n",
            "Disponibilidad: In stock\n",
            "Clasificación: Five Stars\n",
            "-----------------------------------\n",
            "Título: Scott Pilgrim's Precious Little Life (Scott Pilgrim #1)\n",
            "Precio: £52.29\n",
            "Disponibilidad: In stock\n",
            "Clasificación: Five Stars\n",
            "-----------------------------------\n",
            "Título: Rip it Up and Start Again\n",
            "Precio: £35.02\n",
            "Disponibilidad: In stock\n",
            "Clasificación: Five Stars\n",
            "-----------------------------------\n",
            "Título: Our Band Could Be Your Life: Scenes from the American Indie Underground, 1981-1991\n",
            "Precio: £57.25\n",
            "Disponibilidad: In stock\n",
            "Clasificación: Three Stars\n",
            "-----------------------------------\n",
            "Título: Olio\n",
            "Precio: £23.88\n",
            "Disponibilidad: In stock\n",
            "Clasificación: One Stars\n",
            "-----------------------------------\n",
            "Título: Mesaerion: The Best Science Fiction Stories 1800-1849\n",
            "Precio: £37.59\n",
            "Disponibilidad: In stock\n",
            "Clasificación: One Stars\n",
            "-----------------------------------\n",
            "Título: Libertarianism for Beginners\n",
            "Precio: £51.33\n",
            "Disponibilidad: In stock\n",
            "Clasificación: Two Stars\n",
            "-----------------------------------\n",
            "Título: It's Only the Himalayas\n",
            "Precio: £45.17\n",
            "Disponibilidad: In stock\n",
            "Clasificación: Two Stars\n",
            "-----------------------------------\n"
          ]
        }
      ]
    },
    {
      "cell_type": "markdown",
      "source": [
        "Arriba puede verse la información correspondiente para cada uno de los libros encontrados en la página https://books.toscrape.com/. También hubiera sido posible usar librerías como Scrappy o Selenium para hacer web crawling y extraer la información de todos los libros disponibles en la base de datos fuente. A continuación presento un ejemplo de cómo usar de manera práctica los datos obtenidos, obteniendo un listado de todos los libros con 5 estrellas, y luego obteniendo el libro más económico de dicho listado."
      ],
      "metadata": {
        "id": "xHuDYaaF2vOf"
      }
    },
    {
      "cell_type": "code",
      "source": [
        "# Primero hacemos una búsqueda de los libros con 5 estrellas:\n",
        "query = []\n",
        "\n",
        "for book in data:\n",
        "    if book['Rating'] == 'Five Stars':\n",
        "        query.append(book)\n",
        "\n",
        "print(\"LIBROS CON 5 ESTRELLAS DE RATING:\\n---------------------------------\")\n",
        "print()\n",
        "\n",
        "for book in query:\n",
        "  print(f\"Título: {book['Title']}\")\n",
        "  print(f\"Precio: {book['Price']}\")\n",
        "  print(f\"Disponibilidad: {book['Availability']}\")\n",
        "  print(f\"Clasificación: {book['Rating']}\")\n",
        "  print(\"-----------------------------------\")"
      ],
      "metadata": {
        "colab": {
          "base_uri": "https://localhost:8080/"
        },
        "id": "WB8AtTo15OKY",
        "outputId": "df0fd419-c8cb-4919-82b8-81f4fe087533"
      },
      "execution_count": 71,
      "outputs": [
        {
          "output_type": "stream",
          "name": "stdout",
          "text": [
            "LIBROS CON 5 ESTRELLAS DE RATING:\n",
            "---------------------------------\n",
            "\n",
            "Título: Sapiens: A Brief History of Humankind\n",
            "Precio: £54.23\n",
            "Disponibilidad: In stock\n",
            "Clasificación: Five Stars\n",
            "-----------------------------------\n",
            "Título: Set Me Free\n",
            "Precio: £17.46\n",
            "Disponibilidad: In stock\n",
            "Clasificación: Five Stars\n",
            "-----------------------------------\n",
            "Título: Scott Pilgrim's Precious Little Life (Scott Pilgrim #1)\n",
            "Precio: £52.29\n",
            "Disponibilidad: In stock\n",
            "Clasificación: Five Stars\n",
            "-----------------------------------\n",
            "Título: Rip it Up and Start Again\n",
            "Precio: £35.02\n",
            "Disponibilidad: In stock\n",
            "Clasificación: Five Stars\n",
            "-----------------------------------\n"
          ]
        }
      ]
    },
    {
      "cell_type": "code",
      "source": [
        "# Ahora buscamos el libro más económico\n",
        "new_query = min(query, key=lambda book: float(book['Price'].strip('£').strip()))\n",
        "\n",
        "print(\"¡Ya sé cuál es el nuevo libro voy a leer!\\n\")\n",
        "\n",
        "print(f\"Título: {new_query['Title']}\")\n",
        "print(f\"Precio: {new_query['Price']}\")\n",
        "print(f\"Disponibilidad: {new_query['Availability']}\")\n",
        "print(f\"Clasificación: {new_query['Rating']}\")"
      ],
      "metadata": {
        "colab": {
          "base_uri": "https://localhost:8080/"
        },
        "id": "7mWtBGP25yrE",
        "outputId": "ba630354-4ef3-40c9-9b17-d721d04b78f2"
      },
      "execution_count": 72,
      "outputs": [
        {
          "output_type": "stream",
          "name": "stdout",
          "text": [
            "¡Ya sé cuál es el nuevo libro voy a leer!\n",
            "\n",
            "Título: Set Me Free\n",
            "Precio: £17.46\n",
            "Disponibilidad: In stock\n",
            "Clasificación: Five Stars\n"
          ]
        }
      ]
    }
  ]
}